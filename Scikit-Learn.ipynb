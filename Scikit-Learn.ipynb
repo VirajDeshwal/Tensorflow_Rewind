{
 "cells": [
  {
   "cell_type": "markdown",
   "metadata": {},
   "source": [
    "# SciKit-Learn for preprocessing the data"
   ]
  },
  {
   "cell_type": "markdown",
   "metadata": {},
   "source": [
    "### Scaling and Splitting the data"
   ]
  },
  {
   "cell_type": "code",
   "execution_count": 2,
   "metadata": {},
   "outputs": [],
   "source": [
    "import numpy as np\n",
    "from sklearn.preprocessing import MinMaxScaler"
   ]
  },
  {
   "cell_type": "code",
   "execution_count": 3,
   "metadata": {},
   "outputs": [],
   "source": [
    "data = np.random.randint(0,100, (10,2))"
   ]
  },
  {
   "cell_type": "code",
   "execution_count": 4,
   "metadata": {},
   "outputs": [
    {
     "name": "stdout",
     "output_type": "stream",
     "text": [
      "[[53 36]\n",
      " [79 84]\n",
      " [82 13]\n",
      " [46 10]\n",
      " [55 86]\n",
      " [ 7 54]\n",
      " [33 84]\n",
      " [84 70]\n",
      " [13 66]\n",
      " [61 44]]\n"
     ]
    }
   ],
   "source": [
    "print(data)"
   ]
  },
  {
   "cell_type": "code",
   "execution_count": 5,
   "metadata": {},
   "outputs": [],
   "source": [
    "scaler_model = MinMaxScaler()"
   ]
  },
  {
   "cell_type": "code",
   "execution_count": 6,
   "metadata": {},
   "outputs": [
    {
     "data": {
      "text/plain": [
       "sklearn.preprocessing.data.MinMaxScaler"
      ]
     },
     "execution_count": 6,
     "metadata": {},
     "output_type": "execute_result"
    }
   ],
   "source": [
    "type(scaler_model)"
   ]
  },
  {
   "cell_type": "code",
   "execution_count": 7,
   "metadata": {},
   "outputs": [
    {
     "name": "stderr",
     "output_type": "stream",
     "text": [
      "/anaconda3/lib/python3.6/site-packages/sklearn/utils/validation.py:475: DataConversionWarning: Data with input dtype int64 was converted to float64 by MinMaxScaler.\n",
      "  warnings.warn(msg, DataConversionWarning)\n"
     ]
    },
    {
     "data": {
      "text/plain": [
       "MinMaxScaler(copy=True, feature_range=(0, 1))"
      ]
     },
     "execution_count": 7,
     "metadata": {},
     "output_type": "execute_result"
    }
   ],
   "source": [
    "scaler_model.fit(data)"
   ]
  },
  {
   "cell_type": "code",
   "execution_count": 9,
   "metadata": {},
   "outputs": [],
   "source": [
    "####### Here minimum value will become 0. and max value will become 1."
   ]
  },
  {
   "cell_type": "code",
   "execution_count": 10,
   "metadata": {},
   "outputs": [
    {
     "name": "stderr",
     "output_type": "stream",
     "text": [
      "/anaconda3/lib/python3.6/site-packages/sklearn/utils/validation.py:475: DataConversionWarning: Data with input dtype int64 was converted to float64 by MinMaxScaler.\n",
      "  warnings.warn(msg, DataConversionWarning)\n"
     ]
    },
    {
     "data": {
      "text/plain": [
       "array([[0.5974026 , 0.34210526],\n",
       "       [0.93506494, 0.97368421],\n",
       "       [0.97402597, 0.03947368],\n",
       "       [0.50649351, 0.        ],\n",
       "       [0.62337662, 1.        ],\n",
       "       [0.        , 0.57894737],\n",
       "       [0.33766234, 0.97368421],\n",
       "       [1.        , 0.78947368],\n",
       "       [0.07792208, 0.73684211],\n",
       "       [0.7012987 , 0.44736842]])"
      ]
     },
     "execution_count": 10,
     "metadata": {},
     "output_type": "execute_result"
    }
   ],
   "source": [
    "scaler_model.fit_transform(data)"
   ]
  },
  {
   "cell_type": "markdown",
   "metadata": {},
   "source": [
    "### Train test split using pandas"
   ]
  },
  {
   "cell_type": "code",
   "execution_count": 11,
   "metadata": {},
   "outputs": [
    {
     "name": "stderr",
     "output_type": "stream",
     "text": [
      "/anaconda3/lib/python3.6/importlib/_bootstrap.py:219: RuntimeWarning: numpy.dtype size changed, may indicate binary incompatibility. Expected 96, got 88\n",
      "  return f(*args, **kwds)\n"
     ]
    }
   ],
   "source": [
    "import pandas as pd"
   ]
  },
  {
   "cell_type": "code",
   "execution_count": 12,
   "metadata": {},
   "outputs": [],
   "source": [
    "my_data = np.random.randint(0,100, (50,4))"
   ]
  },
  {
   "cell_type": "code",
   "execution_count": 13,
   "metadata": {},
   "outputs": [
    {
     "name": "stdout",
     "output_type": "stream",
     "text": [
      "[[30 99 56 81]\n",
      " [37 28 75 16]\n",
      " [65 19 68 94]\n",
      " [45 15 31 95]\n",
      " [22 94 78 28]\n",
      " [73 24 86  3]\n",
      " [78 85 46 94]\n",
      " [93 81 10 89]\n",
      " [77 25 92 98]\n",
      " [84 19  9 82]\n",
      " [28 73 31 67]\n",
      " [54 26 86 86]\n",
      " [71 46  2  3]\n",
      " [65 28 38 33]\n",
      " [ 9 27  6 56]\n",
      " [65 21 53 94]\n",
      " [97 48 67 36]\n",
      " [92 15 65 23]\n",
      " [83 48 91 73]\n",
      " [81 73 43 91]\n",
      " [80 42 10 25]\n",
      " [28 52  4 78]\n",
      " [44 97 56 21]\n",
      " [73 89 17 28]\n",
      " [59 45 58 99]\n",
      " [59 73 32 88]\n",
      " [43 34 46 90]\n",
      " [17 36 46 25]\n",
      " [ 6 94 21 20]\n",
      " [68 85 66 80]\n",
      " [47 22 35 38]\n",
      " [58 60 18 62]\n",
      " [54 88 89 79]\n",
      " [28  2 51 27]\n",
      " [92 41 44 92]\n",
      " [84  8 62  7]\n",
      " [33 14 73 65]\n",
      " [65 72 33 44]\n",
      " [97 20 74 90]\n",
      " [21  0 61 35]\n",
      " [16 47 97  4]\n",
      " [89 89  7 52]\n",
      " [15 36 55 69]\n",
      " [46 81 86 60]\n",
      " [45 77 82  7]\n",
      " [36  1 91 94]\n",
      " [24 30 86 30]\n",
      " [34 58 51 80]\n",
      " [21 34 27 44]\n",
      " [73 54 28 60]]\n"
     ]
    }
   ],
   "source": [
    "print(my_data)"
   ]
  },
  {
   "cell_type": "markdown",
   "metadata": {},
   "source": [
    "#### Labelling the Columns"
   ]
  },
  {
   "cell_type": "code",
   "execution_count": 19,
   "metadata": {},
   "outputs": [],
   "source": [
    "df = pd.DataFrame(data=my_data, columns=['f1','f2', 'f3','label'])"
   ]
  },
  {
   "cell_type": "code",
   "execution_count": 20,
   "metadata": {},
   "outputs": [
    {
     "name": "stdout",
     "output_type": "stream",
     "text": [
      "    f1  f2  f3  label\n",
      "0   30  99  56     81\n",
      "1   37  28  75     16\n",
      "2   65  19  68     94\n",
      "3   45  15  31     95\n",
      "4   22  94  78     28\n",
      "5   73  24  86      3\n",
      "6   78  85  46     94\n",
      "7   93  81  10     89\n",
      "8   77  25  92     98\n",
      "9   84  19   9     82\n",
      "10  28  73  31     67\n",
      "11  54  26  86     86\n",
      "12  71  46   2      3\n",
      "13  65  28  38     33\n",
      "14   9  27   6     56\n",
      "15  65  21  53     94\n",
      "16  97  48  67     36\n",
      "17  92  15  65     23\n",
      "18  83  48  91     73\n",
      "19  81  73  43     91\n",
      "20  80  42  10     25\n",
      "21  28  52   4     78\n",
      "22  44  97  56     21\n",
      "23  73  89  17     28\n",
      "24  59  45  58     99\n",
      "25  59  73  32     88\n",
      "26  43  34  46     90\n",
      "27  17  36  46     25\n",
      "28   6  94  21     20\n",
      "29  68  85  66     80\n",
      "30  47  22  35     38\n",
      "31  58  60  18     62\n",
      "32  54  88  89     79\n",
      "33  28   2  51     27\n",
      "34  92  41  44     92\n",
      "35  84   8  62      7\n",
      "36  33  14  73     65\n",
      "37  65  72  33     44\n",
      "38  97  20  74     90\n",
      "39  21   0  61     35\n",
      "40  16  47  97      4\n",
      "41  89  89   7     52\n",
      "42  15  36  55     69\n",
      "43  46  81  86     60\n",
      "44  45  77  82      7\n",
      "45  36   1  91     94\n",
      "46  24  30  86     30\n",
      "47  34  58  51     80\n",
      "48  21  34  27     44\n",
      "49  73  54  28     60\n"
     ]
    }
   ],
   "source": [
    "print(df)"
   ]
  },
  {
   "cell_type": "code",
   "execution_count": 21,
   "metadata": {},
   "outputs": [],
   "source": [
    "X = df[['f1','f2','f3']]"
   ]
  },
  {
   "cell_type": "code",
   "execution_count": 24,
   "metadata": {},
   "outputs": [],
   "source": [
    "y= df['label']"
   ]
  },
  {
   "cell_type": "code",
   "execution_count": 25,
   "metadata": {},
   "outputs": [],
   "source": [
    "from sklearn.model_selection import train_test_split"
   ]
  },
  {
   "cell_type": "code",
   "execution_count": 26,
   "metadata": {},
   "outputs": [],
   "source": [
    "x_train, x_test, y_train, y_test = train_test_split(X,y, test_size=0.2)"
   ]
  },
  {
   "cell_type": "code",
   "execution_count": null,
   "metadata": {},
   "outputs": [],
   "source": []
  }
 ],
 "metadata": {
  "kernelspec": {
   "display_name": "Python 3",
   "language": "python",
   "name": "python3"
  },
  "language_info": {
   "codemirror_mode": {
    "name": "ipython",
    "version": 3
   },
   "file_extension": ".py",
   "mimetype": "text/x-python",
   "name": "python",
   "nbconvert_exporter": "python",
   "pygments_lexer": "ipython3",
   "version": "3.6.4"
  }
 },
 "nbformat": 4,
 "nbformat_minor": 2
}
